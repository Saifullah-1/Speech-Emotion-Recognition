{
 "cells": [
  {
   "cell_type": "markdown",
   "id": "4d675d11-22eb-4278-8e36-ec1a49a446f6",
   "metadata": {},
   "source": [
    "# <b> Pattern Recognition <b>\n",
    "## <b> Speech Emotion Recognition Assignment <b>"
   ]
  },
  {
   "cell_type": "markdown",
   "id": "38b30c08-d05e-4836-b923-3747f9ebde6a",
   "metadata": {},
   "source": [
    "<span style=\"font-size: 20px;\">This section covers all CNN training, tuning and predicting.</span>"
   ]
  },
  {
   "cell_type": "markdown",
   "id": "fff51007-410e-4feb-bff3-07847e267620",
   "metadata": {},
   "source": [
    "---"
   ]
  },
  {
   "cell_type": "code",
   "execution_count": null,
   "id": "cdcdd5b5-1c85-43ff-a571-381b9eb0c4e7",
   "metadata": {},
   "outputs": [],
   "source": []
  }
 ],
 "metadata": {
  "kernelspec": {
   "display_name": "Python [conda env:base] *",
   "language": "python",
   "name": "conda-base-py"
  },
  "language_info": {
   "codemirror_mode": {
    "name": "ipython",
    "version": 3
   },
   "file_extension": ".py",
   "mimetype": "text/x-python",
   "name": "python",
   "nbconvert_exporter": "python",
   "pygments_lexer": "ipython3",
   "version": "3.12.2"
  }
 },
 "nbformat": 4,
 "nbformat_minor": 5
}
