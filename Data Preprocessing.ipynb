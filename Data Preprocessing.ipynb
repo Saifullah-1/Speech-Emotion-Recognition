{
 "cells": [
  {
   "cell_type": "markdown",
   "id": "6d6ca7f6-e155-4891-b5c6-2decec11b3f9",
   "metadata": {},
   "source": [
    "# Face Recognition Assignment\n",
    "## Data Preprocessing"
   ]
  },
  {
   "cell_type": "markdown",
   "id": "97af7c9d-9cf1-4a41-a073-fe9bf7d84107",
   "metadata": {},
   "source": [
    "<span style=\"font-size: 20px;\">For a neater, properly organized and easy-maintained assignment, this section covers all non-CNN related code, including:</span>\n",
    "\n",
    "- **Importing Libraries**: Code for importing required Python libraries (e.g., pandas, numpy).\n",
    "- **Dataset Loading**: Code for loading the dataset from a file or source.\n",
    "- **Dataset Separation**: Code for splitting the dataset into training, validation, and test sets."
   ]
  },
  {
   "cell_type": "markdown",
   "id": "3bd4b684-e414-41aa-b5de-863a463d179a",
   "metadata": {},
   "source": [
    "---"
   ]
  },
  {
   "cell_type": "markdown",
   "id": "2d7cedc6-12e3-494f-a1ab-9e9db3fa795d",
   "metadata": {},
   "source": [
    "### Imoprt Libraries"
   ]
  },
  {
   "cell_type": "code",
   "execution_count": 1,
   "id": "2567871e-ae2b-481a-93a2-53f33747b4df",
   "metadata": {},
   "outputs": [],
   "source": [
    "import os\n",
    "import kagglehub\n",
    "import librosa\n",
    "import pandas as pd\n",
    "import numpy as np\n",
    "from sklearn.model_selection import train_test_split"
   ]
  },
  {
   "cell_type": "markdown",
   "id": "50e5d9bb-23ac-48bb-a073-b33d989dc900",
   "metadata": {},
   "source": [
    "---"
   ]
  },
  {
   "cell_type": "markdown",
   "id": "81f653fd-a869-489b-94ea-9fe3ae4819d3",
   "metadata": {},
   "source": [
    "### Dataset Loading"
   ]
  },
  {
   "cell_type": "code",
   "execution_count": 41,
   "id": "de81a1c8-a86f-40ad-a1ba-2fa7c1ad6362",
   "metadata": {},
   "outputs": [
    {
     "name": "stdout",
     "output_type": "stream",
     "text": [
      "[ 8.0384621e-10  5.8765892e-10  4.0371614e-10 ... -6.0689140e-06\n",
      "  2.2952690e-07  0.0000000e+00]\n"
     ]
    }
   ],
   "source": [
    "def load_dataset():\n",
    "\n",
    "    folder_name = \"Crema\"\n",
    "    if not os.path.isdir(folder_name):\n",
    "        raise FileNotFoundError(\"Download CREMA dataset.\")\n",
    "    \n",
    "    audio_files = sorted([f for f in os.listdir(folder_name) if f.endswith('.wav')])\n",
    "    for i, audio in enumerate(audio_files):\n",
    "        file_path = os.path.join(folder_name, audio)\n",
    "        audio, sr = librosa.load(file_path)\n",
    "        \n",
    "\n",
    "    file_path = os.path.join(folder_name, audio_files[0])\n",
    "    audio, sr = librosa.load(file_path)\n",
    "    print(audio)\n",
    "    \n",
    "load_dataset()"
   ]
  },
  {
   "cell_type": "markdown",
   "id": "f41e1dae-27c8-47af-b7d7-3a46a3422b97",
   "metadata": {},
   "source": [
    "---"
   ]
  },
  {
   "cell_type": "markdown",
   "id": "b0fc3cf7-e911-4b58-b86a-da0433f904e9",
   "metadata": {},
   "source": [
    "### Dataset Separation"
   ]
  },
  {
   "cell_type": "code",
   "execution_count": 174,
   "id": "6250794b-d4fd-4b3d-9151-e79f6a850a9f",
   "metadata": {},
   "outputs": [],
   "source": [
    "def separate_dataset():\n",
    "    pass"
   ]
  },
  {
   "cell_type": "markdown",
   "id": "781781e9-9f2f-42c1-afdd-7d475136938e",
   "metadata": {},
   "source": [
    "-------------"
   ]
  },
  {
   "cell_type": "code",
   "execution_count": 162,
   "id": "c8f4380c-ab2c-43cd-b68f-d402eb060d18",
   "metadata": {},
   "outputs": [],
   "source": [
    "def begin():\n",
    "    pass"
   ]
  },
  {
   "cell_type": "code",
   "execution_count": null,
   "id": "e679a966-fbba-4a2f-96c6-b9024b1fec86",
   "metadata": {},
   "outputs": [],
   "source": []
  }
 ],
 "metadata": {
  "kernelspec": {
   "display_name": "Python [conda env:base] *",
   "language": "python",
   "name": "conda-base-py"
  },
  "language_info": {
   "codemirror_mode": {
    "name": "ipython",
    "version": 3
   },
   "file_extension": ".py",
   "mimetype": "text/x-python",
   "name": "python",
   "nbconvert_exporter": "python",
   "pygments_lexer": "ipython3",
   "version": "3.12.2"
  }
 },
 "nbformat": 4,
 "nbformat_minor": 5
}
